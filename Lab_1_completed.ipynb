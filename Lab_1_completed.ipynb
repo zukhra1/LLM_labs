{
  "cells": [
    {
      "cell_type": "markdown",
      "metadata": {
        "id": "73JHBwym-IfY"
      },
      "source": [
        "## Week 6 : Large Language Models\n",
        "```\n",
        "- Generative Artificial Intelligence (Fall semester 2023)\n",
        "- Professor: Muhammad Fahim\n",
        "- Teaching Assistant: Ahmad Taha\n",
        "```\n",
        "<hr>\n",
        "\n",
        "## Contents\n",
        "```\n",
        "1. Transformers (Implementing a transformer)\n",
        "2. Self-Attention\n",
        "3. Multi-headed attention\n",
        "4. Positional Encoding\n",
        "\n",
        "```\n",
        "\n",
        "<hr>\n"
      ]
    },
    {
      "cell_type": "markdown",
      "metadata": {
        "id": "ivBBW705o6JG"
      },
      "source": [
        "# Transformers\n",
        "\n",
        "* [Attention Is All You Need](https://arxiv.org/pdf/1706.03762.pdf) -- Original paper on attention\n",
        "\n",
        "![](http://jalammar.github.io/images/t/The_transformer_encoder_decoder_stack.png)\n"
      ]
    },
    {
      "cell_type": "code",
      "execution_count": 1,
      "metadata": {
        "colab": {
          "base_uri": "https://localhost:8080/"
        },
        "id": "PkzgoQHBzCsS",
        "outputId": "680d6b39-37a4-4aba-dc96-0a58f158ce38"
      },
      "outputs": [
        {
          "output_type": "execute_result",
          "data": {
            "text/plain": [
              "device(type='cuda')"
            ]
          },
          "metadata": {},
          "execution_count": 1
        }
      ],
      "source": [
        "import torch\n",
        "from torch import nn\n",
        "import torch.optim as optim\n",
        "import pandas as pd\n",
        "import numpy as np\n",
        "\n",
        "from torch.utils.data import DataLoader, TensorDataset\n",
        "\n",
        "device = torch.device('cuda' if torch.cuda.is_available() else 'cpu')\n",
        "device"
      ]
    },
    {
      "cell_type": "markdown",
      "metadata": {
        "id": "gqbWEqEG04nj"
      },
      "source": [
        "### Transformer Encoder with Pytorch"
      ]
    },
    {
      "cell_type": "code",
      "execution_count": 2,
      "metadata": {
        "colab": {
          "base_uri": "https://localhost:8080/"
        },
        "id": "bqvnRd4zASjV",
        "outputId": "ba548b48-831f-4e51-d8fc-86d04849c68b"
      },
      "outputs": [
        {
          "output_type": "stream",
          "name": "stderr",
          "text": [
            "/usr/local/lib/python3.10/dist-packages/torch/nn/modules/transformer.py:306: UserWarning: enable_nested_tensor is True, but self.use_nested_tensor is False because encoder_layer.self_attn.batch_first was not True(use batch_first for better inference performance)\n",
            "  warnings.warn(f\"enable_nested_tensor is True, but self.use_nested_tensor is False because {why_not_sparsity_fast_path}\")\n"
          ]
        }
      ],
      "source": [
        "encoder_layer = nn.TransformerEncoderLayer(d_model=512, nhead=32)\n",
        "transformer_encoder = nn.TransformerEncoder(encoder_layer, num_layers=3)"
      ]
    },
    {
      "cell_type": "code",
      "execution_count": 3,
      "metadata": {
        "colab": {
          "base_uri": "https://localhost:8080/"
        },
        "id": "mmaOP-5BAiVG",
        "outputId": "abe678c2-1acb-4d1f-e0df-e6f70a3663f4"
      },
      "outputs": [
        {
          "output_type": "execute_result",
          "data": {
            "text/plain": [
              "TransformerEncoderLayer(\n",
              "  (self_attn): MultiheadAttention(\n",
              "    (out_proj): NonDynamicallyQuantizableLinear(in_features=512, out_features=512, bias=True)\n",
              "  )\n",
              "  (linear1): Linear(in_features=512, out_features=2048, bias=True)\n",
              "  (dropout): Dropout(p=0.1, inplace=False)\n",
              "  (linear2): Linear(in_features=2048, out_features=512, bias=True)\n",
              "  (norm1): LayerNorm((512,), eps=1e-05, elementwise_affine=True)\n",
              "  (norm2): LayerNorm((512,), eps=1e-05, elementwise_affine=True)\n",
              "  (dropout1): Dropout(p=0.1, inplace=False)\n",
              "  (dropout2): Dropout(p=0.1, inplace=False)\n",
              ")"
            ]
          },
          "metadata": {},
          "execution_count": 3
        }
      ],
      "source": [
        "encoder_layer"
      ]
    },
    {
      "cell_type": "markdown",
      "metadata": {
        "id": "ETf4hBGZBmB6"
      },
      "source": [
        "## Encoder\n",
        "\n",
        "The encoder contains a self-attention layer – a layer that helps the encoder look at other words in the input sentence as it encodes a specific word. <br>\n",
        "**The main goal is to efficiently encode the data**\n",
        "\n",
        "![](http://jalammar.github.io/images/t/encoder_with_tensors.png)"
      ]
    },
    {
      "cell_type": "markdown",
      "metadata": {
        "id": "7MQv6sV8CHcb"
      },
      "source": [
        "## Self-Attention\n",
        "\n",
        "**Keep in mind : The main goal is to encode the data in a much more efficient way** In other words is to create meaningful embeddings<br>\n",
        "- As the model processes each word (each position in the input sequence), self attention allows it to look at other positions in the input sequence for clues that can help lead to a better encoding for this word.\n",
        "\n",
        "\n",
        "**How does Self-Attention work?**\n",
        "\n",
        "Steps:\n",
        "1. For each word, we create a **`Query`** vector, a **`Key`** vector, and a **`Value`** vector.\n",
        "  - What are the **`Query`** vector, a **`Key`** vector, and a **`Value`** vector? : They’re abstractions that are useful for calculating attention... They are a breakdown of the word embeddings\n",
        "2. Calculating self-attention score from **`Query`** **`Key`** vector.\n",
        "3. Divide the scores by 8 (This leads to having more stable gradients)\n",
        "4. Pass the result through a softmax operation (softmax score determines how much each word will be expressed at this position)\n",
        "5. Multiply each value vector by the softmax score\n",
        "6. Sum up the weighted value vectors"
      ]
    },
    {
      "cell_type": "markdown",
      "metadata": {
        "id": "2RevROKUGFOX"
      },
      "source": [
        "### Step 1\n",
        "\n",
        "For each word, we create a **`Query`** vector, a **`Key`** vector, and a **`Value`** vector.\n",
        "\n",
        "![](http://jalammar.github.io/images/t/transformer_self_attention_vectors.png)"
      ]
    },
    {
      "cell_type": "code",
      "execution_count": 4,
      "metadata": {
        "id": "YDahLOTBDVDP"
      },
      "outputs": [],
      "source": [
        "# simple sequence = I am here today\n",
        "simple_sequence_embedding = torch.rand((4, 512))\n",
        "\n",
        "# Create weight matrices\n",
        "Wq = torch.normal(0,0.5, (512, 7))\n",
        "Wk = torch.normal(0,0.1, (512, 7))\n",
        "Wv = torch.normal(0,0.2, (512, 7))\n",
        "\n",
        "# Create key, query and value for each word in the senetence\n",
        "queries = simple_sequence_embedding.mm(Wq) # self.q(embedding[0])\n",
        "keys = simple_sequence_embedding.mm(Wk)\n",
        "values = simple_sequence_embedding.mm(Wv)"
      ]
    },
    {
      "cell_type": "code",
      "execution_count": 5,
      "metadata": {
        "colab": {
          "base_uri": "https://localhost:8080/"
        },
        "id": "a2dceawSN2PQ",
        "outputId": "9f5c708a-9645-46ab-d7e5-aaba6303f62e"
      },
      "outputs": [
        {
          "output_type": "execute_result",
          "data": {
            "text/plain": [
              "tensor([[-3.2836,  2.6417,  1.8303,  3.2429, -2.6951, -0.8692,  0.8303],\n",
              "        [-3.0937,  3.0658,  4.8285,  1.7669, -1.5430,  1.2688,  0.6740],\n",
              "        [-0.4102,  2.6807,  2.2094,  3.0515, -2.3518,  2.2580,  1.5570],\n",
              "        [-5.0672,  3.1323,  4.6400,  4.8453, -3.1108, -0.2685,  0.7331]])"
            ]
          },
          "metadata": {},
          "execution_count": 5
        }
      ],
      "source": [
        "values"
      ]
    },
    {
      "cell_type": "code",
      "execution_count": 6,
      "metadata": {
        "colab": {
          "base_uri": "https://localhost:8080/"
        },
        "id": "FhXQl2p8Nzp_",
        "outputId": "c3bb8b49-f65e-4622-9dac-dce0ef024d8f"
      },
      "outputs": [
        {
          "output_type": "execute_result",
          "data": {
            "text/plain": [
              "tensor([[0.1351, 0.3158, 0.7930,  ..., 0.3949, 0.9916, 0.9226],\n",
              "        [0.2482, 0.9978, 0.6790,  ..., 0.8725, 0.3227, 0.7487],\n",
              "        [0.8038, 0.6503, 0.4323,  ..., 0.2089, 0.3981, 0.4299],\n",
              "        [0.1158, 0.1166, 0.6750,  ..., 0.1751, 0.7832, 0.5947]])"
            ]
          },
          "metadata": {},
          "execution_count": 6
        }
      ],
      "source": [
        "simple_sequence_embedding"
      ]
    },
    {
      "cell_type": "markdown",
      "metadata": {
        "id": "gueARUu0KFVm"
      },
      "source": [
        "## Step 2\n",
        "\n",
        "Calculating self-attention score from **`Query`** and **`Key`** vector"
      ]
    },
    {
      "cell_type": "code",
      "execution_count": 7,
      "metadata": {
        "colab": {
          "base_uri": "https://localhost:8080/"
        },
        "id": "6TwUclKXLN14",
        "outputId": "3110f851-5120-45ee-ff06-cfee338887d8"
      },
      "outputs": [
        {
          "output_type": "execute_result",
          "data": {
            "text/plain": [
              "tensor([[  6.9156,   9.8214,  17.7234,   7.7308],\n",
              "        [ -7.8654,  -5.3478,  -2.6943, -11.4905],\n",
              "        [-14.3517, -14.2825, -14.4285, -19.9947],\n",
              "        [ 10.8279,  11.5883,  18.1052,   7.7855]])"
            ]
          },
          "metadata": {},
          "execution_count": 7
        }
      ],
      "source": [
        "scores = torch.mm(queries, keys.T)\n",
        "scores"
      ]
    },
    {
      "cell_type": "markdown",
      "metadata": {
        "id": "FZugp0egQEPQ"
      },
      "source": [
        "## Step 3\n",
        "Divide the scores by 8 (This leads to having more stable gradients)"
      ]
    },
    {
      "cell_type": "code",
      "execution_count": 8,
      "metadata": {
        "colab": {
          "base_uri": "https://localhost:8080/"
        },
        "id": "gA1G9MmeQPuP",
        "outputId": "6fe9fac8-620d-41b3-9d16-d66db44ec128"
      },
      "outputs": [
        {
          "output_type": "execute_result",
          "data": {
            "text/plain": [
              "tensor([[ 0.8644,  1.2277,  2.2154,  0.9663],\n",
              "        [-0.9832, -0.6685, -0.3368, -1.4363],\n",
              "        [-1.7940, -1.7853, -1.8036, -2.4993],\n",
              "        [ 1.3535,  1.4485,  2.2632,  0.9732]])"
            ]
          },
          "metadata": {},
          "execution_count": 8
        }
      ],
      "source": [
        "scores = scores / 8\n",
        "scores"
      ]
    },
    {
      "cell_type": "markdown",
      "metadata": {
        "id": "a-MZsAkWQWlp"
      },
      "source": [
        "## Step 4\n",
        "\n",
        "Pass the result through a softmax operation"
      ]
    },
    {
      "cell_type": "code",
      "execution_count": 9,
      "metadata": {
        "colab": {
          "base_uri": "https://localhost:8080/"
        },
        "id": "0_hpI-SNKqAA",
        "outputId": "6c0f82d8-6510-42ff-9691-36efd5dc7add"
      },
      "outputs": [
        {
          "output_type": "execute_result",
          "data": {
            "text/plain": [
              "tensor([[0.1350, 0.1941, 0.5213, 0.1495],\n",
              "        [0.2035, 0.2788, 0.3884, 0.1293],\n",
              "        [0.2863, 0.2888, 0.2835, 0.1414],\n",
              "        [0.1899, 0.2088, 0.4715, 0.1298]])"
            ]
          },
          "metadata": {},
          "execution_count": 9
        }
      ],
      "source": [
        "scores = torch.nn.functional.softmax(scores, dim=1)\n",
        "scores"
      ]
    },
    {
      "cell_type": "markdown",
      "metadata": {
        "id": "HskCcOiRQlam"
      },
      "source": [
        "## Step 5 & 6\n",
        "\n",
        "* Multiply each value vector by the softmax score\n",
        "* Sum up the weighted value vectors\n",
        "\n"
      ]
    },
    {
      "cell_type": "code",
      "execution_count": 10,
      "metadata": {
        "colab": {
          "base_uri": "https://localhost:8080/"
        },
        "id": "aT3lZwy4TLK1",
        "outputId": "fde4cef3-ff38-4ba3-a3f9-c0eb22430fff"
      },
      "outputs": [
        {
          "output_type": "execute_result",
          "data": {
            "text/plain": [
              "(torch.Size([4, 4]), torch.Size([4, 7]))"
            ]
          },
          "metadata": {},
          "execution_count": 10
        }
      ],
      "source": [
        "scores.shape, values.shape"
      ]
    },
    {
      "cell_type": "code",
      "execution_count": 11,
      "metadata": {
        "colab": {
          "base_uri": "https://localhost:8080/"
        },
        "id": "wDsYOfEnHWVq",
        "outputId": "aaf8c330-04d6-4612-bfb9-013cf86a5394"
      },
      "outputs": [
        {
          "output_type": "execute_result",
          "data": {
            "text/plain": [
              "tensor([[-2.0154,  2.8177,  3.0301,  3.0961, -2.3546,  1.2660,  1.1643],\n",
              "        [-2.3454,  2.8385,  3.1768,  2.9644, -2.2944,  1.0191,  1.0564],\n",
              "        [-2.6662,  2.8446,  3.2009,  2.9890, -2.3238,  0.7199,  0.9775],\n",
              "        [-2.1206,  2.8123,  2.9998,  3.0524, -2.3466,  1.1298,  1.1277]])"
            ]
          },
          "metadata": {},
          "execution_count": 11
        }
      ],
      "source": [
        "z = scores @ values\n",
        "z"
      ]
    },
    {
      "cell_type": "markdown",
      "metadata": {
        "id": "tbCd2yNhzGv5"
      },
      "source": [
        "# Multi-headed attention\n",
        "\n",
        "**GOAL**:\n",
        "1. Expand the model’s ability to focus on different positions\n",
        "2. Provide the attention layer multiple “representation subspaces”\n",
        "\n",
        "**Attention with $N$ just means repeating self attention algorithm $N$ times and joining the results**\n",
        "\n",
        "\n",
        "![](https://data-science-blog.com/wp-content/uploads/2022/01/mha_img_original.png)\n",
        "\n",
        "**Multi-headed attention steps:**\n",
        "1. Same as self-attention calculation, just n different times with different weight matrices\n",
        "2. Condense the $N$ z metrices down into a single matrix by concatinating the matrices then multiply them by an additional weights matrix `WO`\n",
        "\n",
        "Now the output z metrix is fed to the FFNN"
      ]
    },
    {
      "cell_type": "code",
      "execution_count": 12,
      "metadata": {
        "id": "99lM0p2IUd2k"
      },
      "outputs": [],
      "source": [
        "from torch import Tensor\n",
        "import torch.nn.functional as f\n",
        "\n",
        "\n",
        "def scaled_dot_product_attention(query, key, value):\n",
        "  temp = query.bmm(key.transpose(1, 2))\n",
        "  scale = query.size(-1) ** 0.5\n",
        "  softmax = f.softmax(temp / scale, dim=-1)\n",
        "  return softmax.bmm(value)"
      ]
    },
    {
      "cell_type": "markdown",
      "metadata": {
        "id": "Sph09F-Qdlw1"
      },
      "source": [
        "## Now lets make attention head"
      ]
    },
    {
      "cell_type": "code",
      "execution_count": 13,
      "metadata": {
        "id": "MfKQevaDdrQu"
      },
      "outputs": [],
      "source": [
        "import torch.nn as nn\n",
        "\n",
        "class AttentionHead(nn.Module):\n",
        "    def __init__(self, dim_in, dim_q, dim_k):\n",
        "        super().__init__()\n",
        "\n",
        "        # Fill in the missing parts of the constructor to initialize the query, key, and value linear transformations\n",
        "        # dim_in is the input dimension, dim_q and dim_k are the output dimensions for the queries and keys/values respectively\n",
        "        # Example: dim_in 512, dim_q = dim_k 64 in the paper\n",
        "\n",
        "        self.query=nn.Linear(dim_in, dim_q)\n",
        "        self.key = nn.Linear(dim_in, dim_k)\n",
        "        self.value = nn.Linear(dim_in, dim_k)\n",
        "\n",
        "    def forward(self, query, key, value):\n",
        "        # Implement the forward pass by calling scaled_dot_product_attention function\n",
        "        # You need to transform the query, key, and value using the linear transformations defined in __init__\n",
        "        # Fill in with the correct method calls\n",
        "        query=self.query(query)\n",
        "        key=self.key(key)\n",
        "        value=self.value(value)\n",
        "\n",
        "        attention_output=scaled_dot_product_attention(query,key,value)\n",
        "\n",
        "        return attention_output"
      ]
    },
    {
      "cell_type": "markdown",
      "metadata": {
        "id": "ig3CKeuseEOs"
      },
      "source": [
        "## Multi Head Attention"
      ]
    },
    {
      "cell_type": "code",
      "execution_count": 43,
      "metadata": {
        "id": "L_kYFonCeD-y"
      },
      "outputs": [],
      "source": [
        "class MultiHeadToAttention(nn.Module):\n",
        "    def __init__(self, number_of_heads, dim_in, dim_q, dim_k):\n",
        "        super().__init__()\n",
        "        # Initialize heads as multi-AttentionHead instances\n",
        "        # Initialize linear to combine the outputs of all heads into a single output\n",
        "        # self.heads=nn.Linear(number_of_heads*dim_k, dim_in)\n",
        "        self.heads = nn.ModuleList([AttentionHead(dim_in, dim_q, dim_k) for _ in range(number_of_heads)])\n",
        "        self.linear = nn.Linear(number_of_heads * dim_k, dim_in)\n",
        "\n",
        "    def forward(self, query: Tensor, key: Tensor, value: Tensor):\n",
        "        # Concatenate outputs from all heads and apply the final linear transformation\n",
        "        heads_output=[head(query,key,value)  for head in self.heads]\n",
        "        combined_output=torch.cat(heads_output,dim=-1)\n",
        "\n",
        "        z=self.linear(combined_output)\n",
        "        return z"
      ]
    },
    {
      "cell_type": "markdown",
      "metadata": {
        "id": "nk0KG1p0UeSV"
      },
      "source": [
        "## Positional Encoding\n",
        "\n",
        "A way to account for the order of the words in the input sequence. A transformer adds a vector to each input embedding which helps it determine the position of each word. <br>\n",
        "**Goal** : preserving information about the order of tokens  \n",
        "\n",
        "Positional Encoding they can either be learned or fixed a priori.\n",
        "\n",
        "Proposed approach from original paper : describe a simple scheme for fixed positional encodings based on sine and cosine functions\n",
        "\n",
        "![](https://miro.medium.com/v2/resize:fit:640/format:webp/1*C3a9RL6-SFC6fW8NGpJg5A.png)"
      ]
    },
    {
      "cell_type": "code",
      "execution_count": 44,
      "metadata": {
        "id": "q_AGKKflld67"
      },
      "outputs": [],
      "source": [
        "def position_encoding(seq_len, dim_model, device):\n",
        "    # Define the position tensor 'pos' with dimensions appropriate for sequence length\n",
        "    pos = torch.arange(seq_len, dtype=torch.float).unsqueeze(1).to(device)\n",
        "\n",
        "\n",
        "    # Define the dimension tensor 'dim' suitable for the model dimensions\n",
        "    dim = torch.arange(0, dim_model, step=2, dtype=torch.float).to(device)\n",
        "\n",
        "    # Calculate the phase using the position and dimension tensors\n",
        "    phase = pos / (10000 ** (dim / dim_model))\n",
        "\n",
        "    # Return the sinusoidal position encoding\n",
        "\n",
        "    pos_encoding=torch.zeros((seq_len,dim_model), device=device)\n",
        "    pos_encoding[:,0::2]=torch.sin(phase)\n",
        "    pos_encoding[:,1::2]=torch.cos(phase)\n",
        "\n",
        "\n",
        "    return  pos_encoding # Complete this line to select sin or cos based on even/odd index"
      ]
    },
    {
      "cell_type": "markdown",
      "metadata": {
        "id": "zB6Z4v4dnlYk"
      },
      "source": [
        "## Encoder Feed Forward"
      ]
    },
    {
      "cell_type": "code",
      "execution_count": 45,
      "metadata": {
        "id": "19MLi_k0nuZr"
      },
      "outputs": [],
      "source": [
        "def feed_forward(dim_input = 512, dim_feedforward = 2048):\n",
        "  return nn.Sequential(nn.Linear(dim_input, dim_feedforward),\n",
        "                       nn.ReLU(),\n",
        "                       nn.Linear(dim_feedforward, dim_input)\n",
        "                       )"
      ]
    },
    {
      "cell_type": "markdown",
      "metadata": {
        "id": "ctJcODqZoNjm"
      },
      "source": [
        "## Encoder Residual\n",
        "\n",
        "From the original paper the author implementation"
      ]
    },
    {
      "cell_type": "code",
      "execution_count": 46,
      "metadata": {
        "id": "Z3jxUDJxoJrh"
      },
      "outputs": [],
      "source": [
        "class Residual(nn.Module):\n",
        "  def __init__(self, sublayer, dimension, dropout = 0.1):\n",
        "    super().__init__()\n",
        "    self.sublayer = sublayer\n",
        "    self.norm = nn.LayerNorm(dimension)\n",
        "    self.dropout = nn.Dropout(dropout)\n",
        "\n",
        "  def forward(self, *tensors):\n",
        "    return self.norm(tensors[0] + self.dropout(self.sublayer(*tensors)))"
      ]
    },
    {
      "cell_type": "markdown",
      "metadata": {
        "id": "rbO7zQf6Z6oC"
      },
      "source": [
        "## Putting all together on encoder side\n",
        "\n",
        "![](http://jalammar.github.io/images/t/transformer_resideual_layer_norm_2.png)"
      ]
    },
    {
      "cell_type": "markdown",
      "metadata": {
        "id": "N_IWAB7fpdnX"
      },
      "source": [
        "## Putting the Encoder layer together"
      ]
    },
    {
      "cell_type": "code",
      "execution_count": 47,
      "metadata": {
        "id": "6mclItDepir9"
      },
      "outputs": [],
      "source": [
        "class TransformerEncoderLayer(nn.Module):\n",
        "    def __init__(self, dim_model=512, num_heads=6, dim_feedforward=2048, dropout=0.1):\n",
        "        super().__init__()\n",
        "        # Define dimensions for query and key based on model dimension and number of heads\n",
        "\n",
        "        dim_q = dim_k = dim_model // num_heads\n",
        "\n",
        "        # Initialize the MultiHeadAttention component with a residual connection and dropout\n",
        "        self.attention = Residual(MultiHeadToAttention(num_heads,dim_model,dim_q,dim_k),dimension=dim_model, dropout=dropout)\n",
        "\n",
        "        # Initialize the feedforward component with a residual connection and dropout\n",
        "        self.feed_forward = Residual(feed_forward(dim_model, dim_feedforward), dim_model, dropout)\n",
        "\n",
        "    def forward(self, src):\n",
        "        # Apply the attention mechanism to the source data\n",
        "        src = self.attention(src, src, src)\n",
        "\n",
        "        # Apply the feedforward network to the output of the attention mechanism\n",
        "        return self.feed_forward(src)"
      ]
    },
    {
      "cell_type": "markdown",
      "metadata": {
        "id": "HfQ17Qy2pubd"
      },
      "source": [
        "## Putting together transfomer Encoder part"
      ]
    },
    {
      "cell_type": "code",
      "execution_count": 48,
      "metadata": {
        "id": "kwXf_WW-puz_"
      },
      "outputs": [],
      "source": [
        "class TransformerEncoder(nn.Module):\n",
        "    def __init__(self, num_layers=12, dim_model=512, num_heads=4, dim_feedforward=2048, dropout=0.1):\n",
        "        super().__init__()\n",
        "        # Initialize a list of TransformerEncoderLayer instances\n",
        "        self.layers = nn.ModuleList([TransformerEncoderLayer(dim_model, num_heads, dim_feedforward, dropout) for _ in range(num_layers)])\n",
        "\n",
        "        self.dim_model=dim_model\n",
        "        self.device=torch.device('cuda' if torch.cuda.is_available() else 'cpu')\n",
        "\n",
        "    def forward(self, src):\n",
        "        # Retrieve the sequence length and dimension from the source tensor\n",
        "        seq_len, dimension = src.shape[1], src.shape[2]\n",
        "\n",
        "        # Add position encoding to the source tensor\n",
        "        src += position_encoding(seq_len, dimension, device)\n",
        "\n",
        "        # Process each layer in the transformer encoder\n",
        "\n",
        "        for layer in self.layers:\n",
        "            src = layer(src)\n",
        "        return src"
      ]
    },
    {
      "cell_type": "markdown",
      "metadata": {
        "id": "T9iOQWX8aQn9"
      },
      "source": [
        "# The Decoder Side\n",
        "\n",
        "The encoder start by processing the input sequence. The output of the top encoder is then transformed into a set of attention vectors K and V. These are to be used by each decoder.\n",
        "\n",
        "\n",
        "![](https://jalammar.github.io/images/t/transformer_resideual_layer_norm_3.png)"
      ]
    },
    {
      "cell_type": "markdown",
      "metadata": {
        "id": "ehLixHKossPK"
      },
      "source": [
        "## Decoder layer\n",
        "\n",
        "The “Encoder-Decoder Attention” layer works just like multiheaded self-attention, except it creates its Queries matrix from the layer below it, and takes the Keys and Values matrix from the output of the encoder stack.\n",
        "\n",
        "**Task**: implement the decoder layer"
      ]
    },
    {
      "cell_type": "code",
      "execution_count": null,
      "metadata": {
        "id": "DokpYHkAANHg"
      },
      "outputs": [],
      "source": []
    },
    {
      "cell_type": "code",
      "execution_count": 49,
      "metadata": {
        "id": "D8Kpvt0Gsxiq"
      },
      "outputs": [],
      "source": [
        "class TransformerDecoderLayer(nn.Module):\n",
        "    def __init__(\n",
        "        self,\n",
        "        dim_model: int = 512,\n",
        "        num_heads: int = 6,\n",
        "        dim_feedforward: int = 2048,\n",
        "        dropout: float = 0.1,\n",
        "    ):\n",
        "        super().__init__()\n",
        "        # init dim_q and dim_k as in the encoder\n",
        "        # Initialize the first self-attention layer with a residual connection\n",
        "\n",
        "        dim_q=dim_k=dim_model // num_heads\n",
        "\n",
        "        self.attention_1 = Residual(MultiHeadToAttention(num_heads, dim_model, dim_model // num_heads, dim_model // num_heads), dim_model, dropout)\n",
        "\n",
        "        # Initialize the second attention layer for interaction with the encoder output\n",
        "        self.attention_2 = Residual(MultiHeadToAttention(num_heads, dim_model, dim_model // num_heads, dim_model // num_heads), dim_model, dropout)\n",
        "\n",
        "        # Initialize the feed-forward network\n",
        "        self.feed_forward = Residual(feed_forward(dim_model, dim_feedforward), dim_model, dropout)\n",
        "\n",
        "\n",
        "    def forward(self, tgt: Tensor, memory: Tensor) -> Tensor:\n",
        "        # Self-attention mechanism\n",
        "        tgt = self.attention_1(tgt, tgt, tgt)\n",
        "\n",
        "        # Cross-attention mechanism where the decoder attends to the encoder's output\n",
        "        tgt = self.attention_2(tgt, memory, memory)\n",
        "\n",
        "        # Pass through the feed-forward network\n",
        "        return self.feed_forward(tgt)"
      ]
    },
    {
      "cell_type": "markdown",
      "metadata": {
        "id": "6g8J94rHsusT"
      },
      "source": [
        "## Full Transfomer Decoder\n",
        "\n",
        "**Task**: implement the transfomer decoder part class"
      ]
    },
    {
      "cell_type": "code",
      "execution_count": 50,
      "metadata": {
        "id": "EnXSvVUUs4sy"
      },
      "outputs": [],
      "source": [
        "class TransformerDecoder(nn.Module):\n",
        "    def __init__(\n",
        "        self,\n",
        "        num_layers: int = 6,\n",
        "        dim_model: int = 512,\n",
        "        num_heads: int = 8,\n",
        "        dim_feedforward: int = 2048,\n",
        "        dropout: float = 0.1,\n",
        "    ):\n",
        "        super().__init__()\n",
        "        # Initialize laters from TransformerDecoderLayer instances\n",
        "        self.layers = nn.ModuleList([TransformerDecoderLayer(dim_model, num_heads, dim_feedforward, dropout) for _ in range(num_layers)])\n",
        "\n",
        "        self.dim_model=dim_model\n",
        "        self.device=torch.device('cuda' if torch.cuda.is_available() else 'cpu')\n",
        "        # Define the output linear transformation\n",
        "        self.linear = nn.Linear(dim_model,dim_model)\n",
        "\n",
        "    def forward(self, tgt: Tensor, memory: Tensor) -> Tensor:\n",
        "        # Calculate sequence length and dimension from the target tensor\n",
        "        seq_len, dimension = tgt.shape[1], tgt.shape[2]\n",
        "\n",
        "        # Add position encoding to the target tensor\n",
        "        tgt += position_encoding(seq_len, dimension, device)\n",
        "\n",
        "        # Process each layer in the transformer decoder\n",
        "        # Code here\n",
        "        for layer in self.layers:\n",
        "            tgt = layer(tgt, memory)\n",
        "\n",
        "        # Apply a softmax to the output of the final linear layer\n",
        "        tgt = self.linear(tgt)\n",
        "        tgt = f.softmax(tgt, dim=2)\n",
        "        return tgt"
      ]
    },
    {
      "cell_type": "markdown",
      "metadata": {
        "id": "B-6Uav2htlEF"
      },
      "source": [
        "## Full Transfomer model\n",
        "\n",
        "**Task**:\n",
        "1. Assembly a full transfomer (Encoder + Decoder)\n",
        "2. Implement the Transfomer training loop\n",
        "3. Using dataset of your choice train the transformer just for one epoch\n"
      ]
    },
    {
      "cell_type": "code",
      "source": [
        "import torch\n",
        "from torch import nn, optim\n",
        "from torch.utils.data import DataLoader, TensorDataset\n",
        "import torch.nn.functional as F\n",
        "\n",
        "class Transformer(nn.Module):\n",
        "    def __init__(\n",
        "        self,\n",
        "        num_encoder_layers: int = 6,\n",
        "        num_decoder_layers: int = 6,\n",
        "        dim_model: int = 512,\n",
        "        num_heads: int = 8,\n",
        "        dim_feedforward: int = 2048,\n",
        "        dropout: float = 0.1,\n",
        "    ):\n",
        "        super().__init__()\n",
        "        self.encoder = TransformerEncoder(\n",
        "            num_layers=num_encoder_layers,\n",
        "            dim_model=dim_model,\n",
        "            num_heads=num_heads,\n",
        "            dim_feedforward=dim_feedforward,\n",
        "            dropout=dropout\n",
        "        )\n",
        "        self.decoder = TransformerDecoder(\n",
        "            num_layers=num_decoder_layers,\n",
        "            dim_model=dim_model,\n",
        "            num_heads=num_heads,\n",
        "            dim_feedforward=dim_feedforward,\n",
        "            dropout=dropout\n",
        "        )\n",
        "        self.linear = nn.Linear(dim_model, dim_model)\n",
        "\n",
        "    def forward(self, src: Tensor, tgt: Tensor) -> Tensor:\n",
        "        memory = self.encoder(src)\n",
        "        output = self.decoder(tgt, memory)\n",
        "        return self.linear(output)\n"
      ],
      "metadata": {
        "id": "s_Jj0nax7elf"
      },
      "execution_count": 51,
      "outputs": []
    },
    {
      "cell_type": "code",
      "source": [
        "def train_transformer(\n",
        "    model,\n",
        "    data_loader,\n",
        "    optimizer,\n",
        "    criterion,\n",
        "    num_epochs=1,\n",
        "    device='cuda' if torch.cuda.is_available() else 'cpu'\n",
        "):\n",
        "    model.to(device)\n",
        "    model.train()\n",
        "\n",
        "    for epoch in range(num_epochs):\n",
        "        for src, tgt in data_loader:\n",
        "            src, tgt = src.to(device), tgt.to(device)\n",
        "            optimizer.zero_grad()\n",
        "            output = model(src, tgt)\n",
        "            loss = criterion(output, tgt)\n",
        "            loss.backward()\n",
        "            optimizer.step()\n",
        "\n",
        "        print(f'Epoch [{epoch + 1}/{num_epochs}], Loss: {loss.item()}')\n",
        "\n",
        "src = torch.rand((32, 10, 512))\n",
        "tgt = torch.rand((32, 10, 512))\n",
        "dataset = TensorDataset(src, tgt)\n",
        "data_loader = DataLoader(dataset, batch_size=32)\n",
        "\n",
        "# Instantiate the model\n",
        "model = Transformer(\n",
        "    num_encoder_layers=6,\n",
        "    num_decoder_layers=6,\n",
        "    dim_model=512,\n",
        "    num_heads=8,\n",
        "    dim_feedforward=2048,\n",
        "    dropout=0.1\n",
        ")\n",
        "\n",
        "# Define the optimizer and loss function\n",
        "optimizer = optim.Adam(model.parameters(), lr=0.001)\n",
        "criterion = nn.MSELoss()\n",
        "\n",
        "# Train the model\n",
        "train_transformer(model, data_loader, optimizer, criterion, num_epochs=1)"
      ],
      "metadata": {
        "colab": {
          "base_uri": "https://localhost:8080/"
        },
        "id": "ClEj0WlF7gsF",
        "outputId": "df0c0fba-5d83-4652-ef73-9f99efaa42d3"
      },
      "execution_count": 52,
      "outputs": [
        {
          "output_type": "stream",
          "name": "stdout",
          "text": [
            "Epoch [1/1], Loss: 1.311914086341858\n"
          ]
        }
      ]
    },
    {
      "cell_type": "code",
      "execution_count": null,
      "metadata": {
        "id": "UzfY-uEmtppU"
      },
      "outputs": [],
      "source": [
        "class Transfomer(nn.Module):\n",
        "  def __init__(self, ... ):\n",
        "    super().__init__()\n",
        "    pass\n",
        "\n",
        "  def forward(self):\n",
        "    pass"
      ]
    }
  ],
  "metadata": {
    "accelerator": "GPU",
    "colab": {
      "provenance": []
    },
    "gpuClass": "standard",
    "kernelspec": {
      "display_name": "Python 3",
      "name": "python3"
    },
    "language_info": {
      "codemirror_mode": {
        "name": "ipython",
        "version": 3
      },
      "file_extension": ".py",
      "mimetype": "text/x-python",
      "name": "python",
      "nbconvert_exporter": "python",
      "pygments_lexer": "ipython3",
      "version": "3.12.1"
    }
  },
  "nbformat": 4,
  "nbformat_minor": 0
}
