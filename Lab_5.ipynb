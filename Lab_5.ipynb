{
 "cells": [
  {
   "metadata": {},
   "cell_type": "markdown",
   "source": [
    "# Lab 5\n",
    "For this lab I decided to use Ollama thanks to simplicity of this library.<br>\n",
    "To run this code you need to have installed ollama with llama3 model"
   ],
   "id": "a46ed430ae73ec9d"
  },
  {
   "metadata": {
    "ExecuteTime": {
     "end_time": "2024-07-09T13:45:23.162523Z",
     "start_time": "2024-07-09T13:45:22.851932Z"
    }
   },
   "cell_type": "code",
   "source": [
    "import ollama\n",
    "\n",
    "def generate_answer(prompt: str):\n",
    "    stream = ollama.chat(\n",
    "        model='llama3',\n",
    "        messages=[{'role': 'user', 'content': prompt}],\n",
    "        stream=True,\n",
    "    )\n",
    "\n",
    "    for chunk in stream:\n",
    "        print(chunk['message']['content'], end='', flush=True)"
   ],
   "id": "25d4e692a5962c7",
   "outputs": [],
   "execution_count": 1
  },
  {
   "metadata": {},
   "cell_type": "markdown",
   "source": "# 1. Basic prompting",
   "id": "b3fe312ef422aa8e"
  },
  {
   "metadata": {
    "ExecuteTime": {
     "end_time": "2024-07-09T13:45:27.045270Z",
     "start_time": "2024-07-09T13:45:23.163511Z"
    }
   },
   "cell_type": "code",
   "source": [
    "simple_prompt = \"\"\"\n",
    "Solve the following problem: If you have 3 apples, you buy 2 more and eat 1 apple, how many apples do you have in total?\n",
    "\"\"\"\n",
    "\n",
    "generate_answer(simple_prompt)"
   ],
   "id": "2459b2b4a3bafe85",
   "outputs": [
    {
     "name": "stdout",
     "output_type": "stream",
     "text": [
      "Let's work it out!\n",
      "\n",
      "You start with 3 apples.\n",
      "\n",
      "Then, you buy 2 more apples, so now you have:\n",
      "3 (initial apples) + 2 (new apples) = 5 apples\n",
      "\n",
      "Next, you eat 1 apple. So, you subtract 1 from the total number of apples:\n",
      "5 apples - 1 apple = 4 apples\n",
      "\n",
      "Therefore, you have 4 apples in total!"
     ]
    }
   ],
   "execution_count": 2
  },
  {
   "metadata": {},
   "cell_type": "markdown",
   "source": "# 2. Prompt Engineering with Context",
   "id": "dcd0f559dccbd26"
  },
  {
   "metadata": {
    "ExecuteTime": {
     "end_time": "2024-07-09T13:45:30.471550Z",
     "start_time": "2024-07-09T13:45:27.045270Z"
    }
   },
   "cell_type": "code",
   "source": [
    "prompt_with_context = \"\"\"\n",
    "Solve the following problem considering the units of measurement: If you have 3 apples, you buy 2 more and eat 1 apple, how many apples do you have in total? (Consider each apple is a single unit)\"\"\"\n",
    "\n",
    "generate_answer(prompt_with_context)"
   ],
   "id": "141376a61cc4d10b",
   "outputs": [
    {
     "name": "stdout",
     "output_type": "stream",
     "text": [
      "Let's break it down step by step:\n",
      "\n",
      "Initially, you have 3 apples.\n",
      "\n",
      "You buy 2 more apples, so now you have:\n",
      "3 (initial apples) + 2 (new apples) = 5 apples\n",
      "\n",
      "Then, you eat 1 apple. So, you subtract 1 from the total number of apples:\n",
      "5 apples - 1 apple = 4 apples\n",
      "\n",
      "Therefore, you have a total of 4 apples."
     ]
    }
   ],
   "execution_count": 3
  },
  {
   "metadata": {},
   "cell_type": "markdown",
   "source": "# 3. Self-Consistency",
   "id": "cc1af13c0914f90b"
  },
  {
   "metadata": {
    "ExecuteTime": {
     "end_time": "2024-07-09T13:45:50.514475Z",
     "start_time": "2024-07-09T13:45:30.471550Z"
    }
   },
   "cell_type": "code",
   "source": [
    "for i in range(5):\n",
    "    print(f\"Response {i + 1}:\")\n",
    "    generate_answer(prompt_with_context)\n",
    "    print(\"\\n\")"
   ],
   "id": "1d316ce0e0e66a5c",
   "outputs": [
    {
     "name": "stdout",
     "output_type": "stream",
     "text": [
      "Response 1:\n",
      "Let's break it down step by step!\n",
      "\n",
      "Initially, you have 3 apples.\n",
      "\n",
      "You buy 2 more apples, so now you have:\n",
      "\n",
      "3 (initial apples) + 2 (newly bought apples) = 5 apples\n",
      "\n",
      "Then, you eat 1 apple. To find the total number of apples left, subtract the eaten apple from the total:\n",
      "\n",
      "5 apples - 1 apple = 4 apples\n",
      "\n",
      "So, in total, you have 4 apples now.\n",
      "\n",
      "Response 2:\n",
      "A classic problem!\n",
      "\n",
      "Let's break it down step by step:\n",
      "\n",
      "Initially, you have 3 apples.\n",
      "\n",
      "You buy 2 more apples, so now you have:\n",
      "3 (initial apples) + 2 (new apples) = 5 apples\n",
      "\n",
      "Then, you eat 1 apple. To find the total number of apples left, subtract 1 from the total:\n",
      "5 apples - 1 apple = 4 apples\n",
      "\n",
      "So, in total, you have 4 apples.\n",
      "\n",
      "Response 3:\n",
      "Let's break it down step by step:\n",
      "\n",
      "Initially, you have 3 apples.\n",
      "\n",
      "You buy 2 more apples, so now you have:\n",
      "\n",
      "3 (initial apples) + 2 (new apples) = 5 apples\n",
      "\n",
      "Then, you eat 1 apple. To find the total number of apples you have left, subtract the apple you ate from the total:\n",
      "\n",
      "5 apples - 1 apple = 4 apples\n",
      "\n",
      "So, in total, you have 4 apples.\n",
      "\n",
      "Response 4:\n",
      "Let's break it down step by step:\n",
      "\n",
      "Initially, you have 3 apples.\n",
      "\n",
      "You buy 2 more apples, so now you have:\n",
      "3 (initial apples) + 2 (new apples) = 5 apples\n",
      "\n",
      "Then, you eat 1 apple. To find the total number of apples left, subtract the eaten apple from the total:\n",
      "5 (total apples) - 1 (eaten apple) = 4 apples\n",
      "\n",
      "So, in total, you have 4 apples left!\n",
      "\n",
      "Response 5:\n",
      "A simple but fun problem!\n",
      "\n",
      "Let's break it down step by step:\n",
      "\n",
      "Initially, I have 3 apples.\n",
      "\n",
      "I buy 2 more apples, so now I have:\n",
      "3 (initial apples) + 2 (new apples) = 5 apples\n",
      "\n",
      "Then, I eat 1 apple. So, I subtract 1 from the total number of apples:\n",
      "5 apples - 1 apple = 4 apples\n",
      "\n",
      "Therefore, in total, I have 4 apples left.\n",
      "\n"
     ]
    }
   ],
   "execution_count": 4
  },
  {
   "metadata": {},
   "cell_type": "markdown",
   "source": "# 4. Zero-Shot and Few-Shot Learning",
   "id": "a986fa325fda17ef"
  },
  {
   "metadata": {
    "ExecuteTime": {
     "end_time": "2024-07-09T13:45:53.809121Z",
     "start_time": "2024-07-09T13:45:50.514475Z"
    }
   },
   "cell_type": "code",
   "source": [
    "few_shot_prompt = \"\"\"\n",
    "Example: If you have 3 apples, you buy 2 more and eat 1 apple, how many apples do you have in total?\n",
    "Solve this problem: If you have 4 oranges, you buy 3 more and eat 2 oranges, how many oranges do you have in total?\n",
    "\"\"\"\n",
    "\n",
    "generate_answer(few_shot_prompt)"
   ],
   "id": "2cbb9d49dc5c9c63",
   "outputs": [
    {
     "name": "stdout",
     "output_type": "stream",
     "text": [
      "Let's work it out!\n",
      "\n",
      "You start with 4 oranges. Then, you buy 3 more, so you add those to the original 4:\n",
      "\n",
      "4 (original) + 3 (newly bought) = 7 oranges\n",
      "\n",
      "After eating 2 oranges, you're left with:\n",
      "\n",
      "7 - 2 = 5 oranges\n",
      "\n",
      "So, in total, you have 5 oranges."
     ]
    }
   ],
   "execution_count": 5
  },
  {
   "metadata": {},
   "cell_type": "markdown",
   "source": "# 5. Chain of thoughts",
   "id": "3110547674980b71"
  },
  {
   "metadata": {
    "ExecuteTime": {
     "end_time": "2024-07-09T13:45:58.227560Z",
     "start_time": "2024-07-09T13:45:53.809121Z"
    }
   },
   "cell_type": "code",
   "source": [
    "chain_of_thoughts = \"\"\"\n",
    "Example: If you have 3 apples, you buy 2 more and eat 1 apple, how many apples do you have in total?\n",
    "Answer: At first you have 3 apples in total.\n",
    "Then you buy 2 more apple.\n",
    "In total you have 3 + 2 = 5 apples.\n",
    "Then you eat 1 apple.\n",
    "In total you have 5 - 1 = 4 apples.\n",
    "Solve the following problem step by step: If you have 4 oranges, you buy 3 more and eat 2 oranges, how many oranges do you have in total?\n",
    "\"\"\"\n",
    "\n",
    "generate_answer(chain_of_thoughts)"
   ],
   "id": "8523938c608d7a3",
   "outputs": [
    {
     "name": "stdout",
     "output_type": "stream",
     "text": [
      "Let's solve the problem step by step:\n",
      "\n",
      "Example: If you have 4 oranges, you buy 3 more and eat 2 oranges, how many oranges do you have in total?\n",
      "\n",
      "Answer: At first, you have 4 oranges in total.\n",
      "Then you buy 3 more oranges.\n",
      "In total, you have 4 + 3 = 7 oranges.\n",
      "Then you eat 2 oranges.\n",
      "In total, you have 7 - 2 = 5 oranges.\n",
      "\n",
      "So, in the end, you have 5 oranges."
     ]
    }
   ],
   "execution_count": 6
  },
  {
   "metadata": {},
   "cell_type": "markdown",
   "source": "# 6. Zero-shot chain of thoughts",
   "id": "f06d4b8b678a7e01"
  },
  {
   "metadata": {
    "ExecuteTime": {
     "end_time": "2024-07-09T13:46:02.438990Z",
     "start_time": "2024-07-09T13:45:58.228372Z"
    }
   },
   "cell_type": "code",
   "source": [
    "zero_shot_chain_of_thoughts = \"\"\"\n",
    "Solve the following problem step by step: If you have 4 oranges, you buy 3 more and eat 2 oranges, how many oranges do you have in total?\n",
    "\"\"\"\n",
    "\n",
    "generate_answer(zero_shot_chain_of_thoughts)"
   ],
   "id": "63668cc6efe24f13",
   "outputs": [
    {
     "name": "stdout",
     "output_type": "stream",
     "text": [
      "Let's break it down step by step!\n",
      "\n",
      "Initially, you have 4 oranges.\n",
      "\n",
      "You buy 3 more oranges, so now you have:\n",
      "4 (initial oranges) + 3 (new oranges) = 7 oranges\n",
      "\n",
      "Then, you eat 2 oranges. To find out how many oranges you have left, subtract the number of oranges you ate from the total number of oranges:\n",
      "7 - 2 = 5\n",
      "\n",
      "So, after buying and eating oranges, you have a total of 5 oranges!"
     ]
    }
   ],
   "execution_count": 7
  },
  {
   "metadata": {},
   "cell_type": "markdown",
   "source": [
    "# Conclusions\n",
    "We've learned different techniques to prompt engineering. But consider that LLama3-7b model already is very smart and SOTA model, it's already give us very precise and accurate answers (even with simple prompt it give us correct answer with chain of thought). In consistency test answers were consistent."
   ],
   "id": "2e4ef2179b58a212"
  },
  {
   "metadata": {},
   "cell_type": "code",
   "outputs": [],
   "execution_count": null,
   "source": "",
   "id": "ed9753a18f495a90"
  }
 ],
 "metadata": {
  "kernelspec": {
   "display_name": "Python 3",
   "language": "python",
   "name": "python3"
  },
  "language_info": {
   "codemirror_mode": {
    "name": "ipython",
    "version": 2
   },
   "file_extension": ".py",
   "mimetype": "text/x-python",
   "name": "python",
   "nbconvert_exporter": "python",
   "pygments_lexer": "ipython2",
   "version": "2.7.6"
  }
 },
 "nbformat": 4,
 "nbformat_minor": 5
}
